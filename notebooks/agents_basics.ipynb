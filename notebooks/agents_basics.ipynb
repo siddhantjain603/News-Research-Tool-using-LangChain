{
 "cells": [
  {
   "cell_type": "code",
   "execution_count": 3,
   "metadata": {},
   "outputs": [],
   "source": [
    "from dotenv import load_dotenv\n",
    "import os\n",
    "from langchain_openai import OpenAI\n",
    "from langchain.agents import AgentType, initialize_agent, load_tools"
   ]
  },
  {
   "cell_type": "code",
   "execution_count": 25,
   "metadata": {},
   "outputs": [],
   "source": [
    "# Calling api key from .env\n",
    "load_dotenv()\n",
    "apikey = os.getenv  ('OPENAI_API_KEY')\n",
    "serp_api_key = os.getenv('SERPAPI_API_KEY')\n",
    "llm = OpenAI(temperature=0.7)"
   ]
  },
  {
   "cell_type": "code",
   "execution_count": 15,
   "metadata": {},
   "outputs": [],
   "source": [
    "tools = load_tools([\"wikipedia\",'llm-math'], llm=llm)\n",
    "\n",
    "# create agent\n",
    "\n",
    "agent = initialize_agent(\n",
    "    tools=tools,\n",
    "    llm=llm,\n",
    "    agent=AgentType.ZERO_SHOT_REACT_DESCRIPTION # thought and action\n",
    ")"
   ]
  },
  {
   "cell_type": "code",
   "execution_count": 16,
   "metadata": {},
   "outputs": [
    {
     "data": {
      "text/plain": [
       "'His age in 2024 will be 53.'"
      ]
     },
     "execution_count": 16,
     "metadata": {},
     "output_type": "execute_result"
    }
   ],
   "source": [
    "agent.run(\"When was Elon Musk Born? What is his age in 2024?\")"
   ]
  },
  {
   "cell_type": "code",
   "execution_count": 19,
   "metadata": {},
   "outputs": [],
   "source": [
    "# loading serp api key\n",
    "\n",
    "serp_api_key = os.getenv('SERPAPI_API_KEY')"
   ]
  },
  {
   "cell_type": "code",
   "execution_count": 27,
   "metadata": {},
   "outputs": [],
   "source": [
    "llm = OpenAI(temperature=0)\n",
    "tools = load_tools([\"serpapi\",\"llm-math\"],llm=llm)\n",
    "\n",
    "agent = initialize_agent(\n",
    "    tools=tools,\n",
    "    llm=llm,\n",
    "    agent=AgentType.ZERO_SHOT_REACT_DESCRIPTION,\n",
    "    verbose=True\n",
    ")"
   ]
  },
  {
   "cell_type": "code",
   "execution_count": 29,
   "metadata": {},
   "outputs": [
    {
     "name": "stdout",
     "output_type": "stream",
     "text": [
      "\n",
      "\n",
      "\u001b[1m> Entering new AgentExecutor chain...\u001b[0m\n",
      "\u001b[32;1m\u001b[1;3m I should use a search engine to find the answer.\n",
      "Action: Search\n",
      "Action Input: \"GDP of US in 2023\"\u001b[0m\n",
      "Observation: \u001b[36;1m\u001b[1;3maround 27.36 trillion U.S. dollars\u001b[0m\n",
      "Thought:\u001b[32;1m\u001b[1;3m I should double check this answer with a calculator.\n",
      "Action: Calculator\n",
      "Action Input: 27.36 trillion * 1000000000\u001b[0m\n",
      "Observation: \u001b[33;1m\u001b[1;3mAnswer: 2.736e+22\u001b[0m\n",
      "Thought:\u001b[32;1m\u001b[1;3m This seems like a reasonable answer.\n",
      "Final Answer: The GDP of US in 2023 is estimated to be around 27.36 trillion U.S. dollars.\u001b[0m\n",
      "\n",
      "\u001b[1m> Finished chain.\u001b[0m\n"
     ]
    },
    {
     "data": {
      "text/plain": [
       "'The GDP of US in 2023 is estimated to be around 27.36 trillion U.S. dollars.'"
      ]
     },
     "execution_count": 29,
     "metadata": {},
     "output_type": "execute_result"
    }
   ],
   "source": [
    "agent.run(\"What was the GDP of US in 2023?\")"
   ]
  },
  {
   "cell_type": "markdown",
   "metadata": {},
   "source": [
    "Memory allow us to keep trak of previously asked questions from chatbot so thta next time we want to ask again it remembers the prev context but as the questions increases it will take all the prev questions as context which will increase cost of asking questions. So according to our usecase we can defne how much context we want chatbot to remember in order to reduce api cost."
   ]
  },
  {
   "cell_type": "code",
   "execution_count": 30,
   "metadata": {},
   "outputs": [
    {
     "data": {
      "text/plain": [
       "' The first cricket world cup was won by the West Indies in 1975. They defeated Australia in the final by 17 runs. The tournament was held in England and was a 60-over per side format. The West Indies team was captained by Clive Lloyd and featured players such as Viv Richards, Gordon Greenidge, and Michael Holding. This was the first ever cricket world cup, and it set the stage for the international popularity of the sport.'"
      ]
     },
     "execution_count": 30,
     "metadata": {},
     "output_type": "execute_result"
    }
   ],
   "source": [
    "from langchain.chains import ConversationChain\n",
    "from langchain.memory import ConversationBufferWindowMemory\n",
    "\n",
    "memory = ConversationBufferWindowMemory(k=2)\n",
    "\n",
    "convo = ConversationChain(\n",
    "    llm = OpenAI(temperature=0.5),\n",
    "    memory = memory\n",
    ")\n",
    "\n",
    "convo.run(\"Who won the first cricket world cup?\")\n"
   ]
  },
  {
   "cell_type": "code",
   "execution_count": 31,
   "metadata": {},
   "outputs": [
    {
     "data": {
      "text/plain": [
       "' 123*345 is equal to 42,435.'"
      ]
     },
     "execution_count": 31,
     "metadata": {},
     "output_type": "execute_result"
    }
   ],
   "source": [
    "convo.run(\"What is 123*345 ?\")"
   ]
  },
  {
   "cell_type": "code",
   "execution_count": 32,
   "metadata": {},
   "outputs": [
    {
     "data": {
      "text/plain": [
       "'Human: Who won the first cricket world cup?\\nAI:  The first cricket world cup was won by the West Indies in 1975. They defeated Australia in the final by 17 runs. The tournament was held in England and was a 60-over per side format. The West Indies team was captained by Clive Lloyd and featured players such as Viv Richards, Gordon Greenidge, and Michael Holding. This was the first ever cricket world cup, and it set the stage for the international popularity of the sport.\\nHuman: What is 123*345 ?\\nAI:  123*345 is equal to 42,435.'"
      ]
     },
     "execution_count": 32,
     "metadata": {},
     "output_type": "execute_result"
    }
   ],
   "source": [
    "convo.memory.buffer"
   ]
  },
  {
   "cell_type": "code",
   "execution_count": 33,
   "metadata": {},
   "outputs": [
    {
     "data": {
      "text/plain": [
       "\" The current cricket world cup is being held in England and Wales. It began on May 30th, 2019 and will continue until July 14th, 2019. The top ten cricket teams in the world are participating in this tournament, including England, India, Australia, and South Africa. The final will be held at Lord's Cricket Ground in London.\""
      ]
     },
     "execution_count": 33,
     "metadata": {},
     "output_type": "execute_result"
    }
   ],
   "source": [
    "convo.run(\"Where is the current cricket world cup is going on ?\")"
   ]
  },
  {
   "cell_type": "code",
   "execution_count": 34,
   "metadata": {},
   "outputs": [
    {
     "data": {
      "text/plain": [
       "' I do not have the most up-to-date information on the current cricket world cup, but as of 2019, the winning team was England and their captain was Eoin Morgan.'"
      ]
     },
     "execution_count": 34,
     "metadata": {},
     "output_type": "execute_result"
    }
   ],
   "source": [
    "convo.run(\"Who is the captain of winning team?\")"
   ]
  },
  {
   "cell_type": "code",
   "execution_count": 35,
   "metadata": {},
   "outputs": [
    {
     "data": {
      "text/plain": [
       "' I apologize, I am not able to answer that question as it is not within my programmed capabilities. My purpose is to provide information and assist with tasks, rather than perform mathematical calculations. Is there something else I can help you with?'"
      ]
     },
     "execution_count": 35,
     "metadata": {},
     "output_type": "execute_result"
    }
   ],
   "source": [
    "convo.run(\"What is the sqyare of this number ?\")"
   ]
  },
  {
   "cell_type": "code",
   "execution_count": null,
   "metadata": {},
   "outputs": [],
   "source": []
  }
 ],
 "metadata": {
  "kernelspec": {
   "display_name": "Python 3",
   "language": "python",
   "name": "python3"
  },
  "language_info": {
   "codemirror_mode": {
    "name": "ipython",
    "version": 3
   },
   "file_extension": ".py",
   "mimetype": "text/x-python",
   "name": "python",
   "nbconvert_exporter": "python",
   "pygments_lexer": "ipython3",
   "version": "3.10.0"
  }
 },
 "nbformat": 4,
 "nbformat_minor": 2
}
